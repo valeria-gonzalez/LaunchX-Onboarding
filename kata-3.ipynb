{
 "cells": [
  {
   "cell_type": "markdown",
   "metadata": {},
   "source": [
    "# Kata 3\n",
    "Valeria Gonzalez Segura (github: @valeria-gonzalez)"
   ]
  },
  {
   "cell_type": "markdown",
   "metadata": {},
   "source": [
    "## Primer ejercicio"
   ]
  },
  {
   "cell_type": "code",
   "execution_count": 2,
   "metadata": {},
   "outputs": [
    {
     "name": "stdout",
     "output_type": "stream",
     "text": [
      "Alerta! Un asteroide se acerca a la tierra!!\n"
     ]
    }
   ],
   "source": [
    "asteroideV = 49\n",
    "\n",
    "if(asteroideV >= 20.0):\n",
    "   print(\"Alerta! Un asteroide se acerca a la tierra!!\")\n",
    "else:\n",
    "   print(\"No se preocupe, está seguro...\")"
   ]
  },
  {
   "cell_type": "markdown",
   "metadata": {},
   "source": [
    "## Segundo ejercicio"
   ]
  },
  {
   "cell_type": "code",
   "execution_count": 1,
   "metadata": {},
   "outputs": [
    {
     "name": "stdout",
     "output_type": "stream",
     "text": [
      "No se preocupe, está seguro...\n"
     ]
    }
   ],
   "source": [
    "asteroideV = 19\n",
    "\n",
    "if(asteroideV > 20):\n",
    "    print(\"Busca un asteroide en el cielo!!\")\n",
    "elif(asteroideV == 20):\n",
    "    print(\"Busca un rayo de luz en el cielo!\")\n",
    "else:\n",
    "    print(\"No se preocupe, está seguro...\")"
   ]
  },
  {
   "cell_type": "markdown",
   "metadata": {},
   "source": [
    "## Tercer ejercicio"
   ]
  },
  {
   "cell_type": "code",
   "execution_count": 11,
   "metadata": {},
   "outputs": [
    {
     "name": "stdout",
     "output_type": "stream",
     "text": [
      "Advertencia, el asteroide va muy rapido...\n"
     ]
    }
   ],
   "source": [
    "asteroideV = 26\n",
    "asteroideD = 20\n",
    "\n",
    "if(asteroideD > 25.0 and asteroideV > 25.0):\n",
    "    print(\"Advertencia, este asteroide puede causar mucho daño y va muy rapido!!\")\n",
    "elif(asteroideV >= 20):\n",
    "        print(\"Busca un rayo de luz en el cielo!\")\n",
    "elif(asteroideD < 25.0):\n",
    "    print(\"No se preocupe, el asteroide se quemara al entrar a la atmosfera...\")\n",
    "else:\n",
    "    print(\"No se preocupe, está seguro...\")   \n"
   ]
  }
 ],
 "metadata": {
  "interpreter": {
   "hash": "2be5faf79681da6f2a61fdfdd5405d65d042280f7fba6178067603e3a2925119"
  },
  "kernelspec": {
   "display_name": "Python 3.10.2 64-bit",
   "language": "python",
   "name": "python3"
  },
  "language_info": {
   "codemirror_mode": {
    "name": "ipython",
    "version": 3
   },
   "file_extension": ".py",
   "mimetype": "text/x-python",
   "name": "python",
   "nbconvert_exporter": "python",
   "pygments_lexer": "ipython3",
   "version": "3.10.2"
  },
  "orig_nbformat": 4
 },
 "nbformat": 4,
 "nbformat_minor": 2
}
